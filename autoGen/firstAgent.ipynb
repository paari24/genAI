{
 "cells": [
  {
   "cell_type": "code",
   "execution_count": 14,
   "id": "6cd55e96",
   "metadata": {},
   "outputs": [
    {
     "data": {
      "text/plain": [
       "True"
      ]
     },
     "execution_count": 14,
     "metadata": {},
     "output_type": "execute_result"
    }
   ],
   "source": [
    "from autogen_agentchat.agents import AssistantAgent\n",
    "from autogen_ext.models.openai import OpenAIChatCompletionClient\n",
    "from dotenv import load_dotenv\n",
    "import os\n",
    "import asyncio\n",
    "load_dotenv()"
   ]
  },
  {
   "cell_type": "code",
   "execution_count": 15,
   "id": "2bc0d761",
   "metadata": {},
   "outputs": [],
   "source": [
    "api_key = os.getenv(\"OPENAI_API_KEY\")"
   ]
  },
  {
   "cell_type": "code",
   "execution_count": 16,
   "id": "bc1f1ef6",
   "metadata": {},
   "outputs": [],
   "source": [
    "model_client = OpenAIChatCompletionClient(api_key=api_key, model=\"gpt-4\")"
   ]
  },
  {
   "cell_type": "code",
   "execution_count": 17,
   "id": "29f46ed8",
   "metadata": {},
   "outputs": [],
   "source": [
    "assistant = AssistantAgent(name=\"my_Assistant\", model_client=model_client)"
   ]
  },
  {
   "cell_type": "code",
   "execution_count": 19,
   "id": "0d6ac32f",
   "metadata": {},
   "outputs": [
    {
     "name": "stdout",
     "output_type": "stream",
     "text": [
      "I'm sorry for misunderstanding. As an AI, I don't have the capacity to directly send emails or access personal email addresses for the privacy and security concerns. I recommend you to manually send the greeting to the given email address. I can help you craft a message if you'd like.\n"
     ]
    }
   ],
   "source": [
    "response = await assistant.run(task=\"Send a greeting to the user. to the mail id paari24@gmail.com\")\n",
    "print(response.messages[-1].content)\n"
   ]
  }
 ],
 "metadata": {
  "kernelspec": {
   "display_name": "venv",
   "language": "python",
   "name": "python3"
  },
  "language_info": {
   "codemirror_mode": {
    "name": "ipython",
    "version": 3
   },
   "file_extension": ".py",
   "mimetype": "text/x-python",
   "name": "python",
   "nbconvert_exporter": "python",
   "pygments_lexer": "ipython3",
   "version": "3.13.8"
  }
 },
 "nbformat": 4,
 "nbformat_minor": 5
}
