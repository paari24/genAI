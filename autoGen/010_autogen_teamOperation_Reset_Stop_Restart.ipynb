{
 "cells": [
  {
   "cell_type": "code",
   "execution_count": null,
   "id": "443dba5c",
   "metadata": {},
   "outputs": [],
   "source": [
    "from autogen_agentchat.agents import AssistantAgent\n",
    "from autogen_ext.models.openai import OpenAIChatCompletionClient\n",
    "from dotenv import load_dotenv\n",
    "import os\n",
    "import asyncio\n",
    "load_dotenv()\n",
    "\n",
    "apikey = os.getenv(\"OPENAI_API_KEY\")\n",
    "\n",
    "modelclient = OpenAIChatCompletionClient(api_key=apikey, model=\"gpt-4o-mini\")"
   ]
  },
  {
   "cell_type": "markdown",
   "id": "1d1776fd",
   "metadata": {},
   "source": [
    "### **Team Operations: Reset, Stop, Resume**"
   ]
  },
  {
   "cell_type": "code",
   "execution_count": null,
   "id": "a4d16dff",
   "metadata": {},
   "outputs": [],
   "source": [
    "from autogen_agentchat.agents import AssistantAgent\n",
    "\n",
    "add_1_agent_first = AssistantAgent(name=\"add_1_agent_first\", \n",
    "                                   model_client=modelclient,\n",
    "                                   system_message=\"You are the first agent. The starting number is 0. Add 1 to it and return output.\")\n",
    "\n",
    "add_1_agent_second = AssistantAgent(name=\"add_1_agent_second\", \n",
    "                                   model_client=modelclient,\n",
    "                                   system_message=\"You are the second agent. Take the number from the previous agent's message, add 1 to it, and return\")\n",
    "\n",
    "add_1_agent_third = AssistantAgent(name=\"add_1_agent_third\", \n",
    "                                   model_client=modelclient,\n",
    "                                   system_message=\"You are the third agent. Take the number from the previous agent's message, add 1 to it, and return \")\n"
   ]
  },
  {
   "cell_type": "code",
   "execution_count": null,
   "id": "267b0b1c",
   "metadata": {},
   "outputs": [],
   "source": [
    "from autogen_agentchat.teams import RoundRobinGroupChat\n",
    "team = RoundRobinGroupChat([add_1_agent_first, add_1_agent_second, add_1_agent_third], max_turns=3)"
   ]
  },
  {
   "cell_type": "code",
   "execution_count": null,
   "id": "d54e3e2a",
   "metadata": {},
   "outputs": [],
   "source": [
    "from autogen_agentchat.ui import Console\n",
    "\n",
    "await Console(team.run_stream(task=\"First number is 0.\"))\n"
   ]
  },
  {
   "cell_type": "markdown",
   "id": "69637ee1",
   "metadata": {},
   "source": [
    "#### **Resuming the team**\n",
    "\n",
    "Teams are stateful and maintain the conversation history and context after each run , you can reset the team. We can resume a team to continue from where it left by calling off the run() or run_stream() method without a new task"
   ]
  },
  {
   "cell_type": "code",
   "execution_count": null,
   "id": "b84d1930",
   "metadata": {},
   "outputs": [],
   "source": [
    "from autogen_agentchat.ui import Console\n",
    "\n",
    "await Console(team.run_stream())\n"
   ]
  },
  {
   "cell_type": "code",
   "execution_count": null,
   "id": "d7b37635",
   "metadata": {},
   "outputs": [],
   "source": [
    "await Console(team.run_stream(task=\"what is the largest number you getted?\"))"
   ]
  },
  {
   "cell_type": "markdown",
   "id": "862d1fa8",
   "metadata": {},
   "source": [
    "#### **Reset Team**"
   ]
  },
  {
   "cell_type": "code",
   "execution_count": 39,
   "id": "7e9c309b",
   "metadata": {},
   "outputs": [],
   "source": [
    "await team.reset()"
   ]
  },
  {
   "cell_type": "markdown",
   "id": "8fe2a1ac",
   "metadata": {},
   "source": [
    "#### **Termination** to stop the work main in Production"
   ]
  },
  {
   "cell_type": "code",
   "execution_count": 42,
   "id": "d61d7715",
   "metadata": {},
   "outputs": [],
   "source": [
    "from autogen_agentchat.teams import RoundRobinGroupChat\n",
    "from autogen_agentchat.conditions import MaxMessageTermination\n",
    "\n",
    "termination = MaxMessageTermination(5)  # Terminate after 5 messages\n",
    "\n",
    "team = RoundRobinGroupChat([add_1_agent_first, add_1_agent_second, add_1_agent_third],termination_condition=termination)\n"
   ]
  },
  {
   "cell_type": "code",
   "execution_count": 43,
   "id": "522d7932",
   "metadata": {},
   "outputs": [
    {
     "name": "stdout",
     "output_type": "stream",
     "text": [
      "---------- TextMessage (add_1_agent_first) ----------\n",
      "1\n",
      "---------- TextMessage (add_1_agent_second) ----------\n",
      "2\n",
      "---------- TextMessage (add_1_agent_third) ----------\n",
      "3\n",
      "---------- TextMessage (add_1_agent_first) ----------\n",
      "4\n",
      "---------- TextMessage (add_1_agent_second) ----------\n",
      "5\n"
     ]
    },
    {
     "data": {
      "text/plain": [
       "TaskResult(messages=[TextMessage(id='c270957a-fb03-421d-bb7d-556ee20f9a87', source='add_1_agent_first', models_usage=RequestUsage(prompt_tokens=34, completion_tokens=1), metadata={}, created_at=datetime.datetime(2025, 10, 16, 2, 22, 17, 726535, tzinfo=datetime.timezone.utc), content='1', type='TextMessage'), TextMessage(id='dd4ae27e-7424-46ea-a750-bb8d45a2c05f', source='add_1_agent_second', models_usage=RequestUsage(prompt_tokens=56, completion_tokens=1), metadata={}, created_at=datetime.datetime(2025, 10, 16, 2, 22, 18, 994476, tzinfo=datetime.timezone.utc), content='2', type='TextMessage'), TextMessage(id='ae415a54-f4a4-4690-935b-7ea1c5af2645', source='add_1_agent_third', models_usage=RequestUsage(prompt_tokens=52, completion_tokens=1), metadata={}, created_at=datetime.datetime(2025, 10, 16, 2, 22, 19, 826515, tzinfo=datetime.timezone.utc), content='3', type='TextMessage'), TextMessage(id='acaf4b53-0255-479e-8e2e-cc70da1bced4', source='add_1_agent_first', models_usage=RequestUsage(prompt_tokens=60, completion_tokens=1), metadata={}, created_at=datetime.datetime(2025, 10, 16, 2, 22, 20, 414606, tzinfo=datetime.timezone.utc), content='4', type='TextMessage'), TextMessage(id='0686d072-04cd-4f15-9ab2-a876dab72b9c', source='add_1_agent_second', models_usage=RequestUsage(prompt_tokens=82, completion_tokens=1), metadata={}, created_at=datetime.datetime(2025, 10, 16, 2, 22, 21, 546802, tzinfo=datetime.timezone.utc), content='5', type='TextMessage')], stop_reason='Maximum number of messages 5 reached, current message count: 5')"
      ]
     },
     "execution_count": 43,
     "metadata": {},
     "output_type": "execute_result"
    }
   ],
   "source": [
    "await Console(team.run_stream())"
   ]
  }
 ],
 "metadata": {
  "kernelspec": {
   "display_name": "venv",
   "language": "python",
   "name": "python3"
  },
  "language_info": {
   "codemirror_mode": {
    "name": "ipython",
    "version": 3
   },
   "file_extension": ".py",
   "mimetype": "text/x-python",
   "name": "python",
   "nbconvert_exporter": "python",
   "pygments_lexer": "ipython3",
   "version": "3.13.8"
  }
 },
 "nbformat": 4,
 "nbformat_minor": 5
}
