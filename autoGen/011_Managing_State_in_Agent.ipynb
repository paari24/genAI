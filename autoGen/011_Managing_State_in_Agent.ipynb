{
 "cells": [
  {
   "cell_type": "code",
   "execution_count": null,
   "id": "8acd31b6",
   "metadata": {},
   "outputs": [],
   "source": [
    "from autogen_agentchat.agents import AssistantAgent\n",
    "from autogen_ext.models.openai import OpenAIChatCompletionClient\n",
    "from autogen_agentchat.messages import TextMessage\n",
    "from autogen_core import CancellationToken\n",
    "from autogen_agentchat.conditions import TextMentionTermination\n",
    "from autogen_agentchat.teams import RoundRobinGroupChat\n",
    "from dotenv import load_dotenv\n",
    "import os\n",
    "import asyncio\n",
    "load_dotenv()\n",
    "\n",
    "apikey = os.getenv(\"OPENAI_API_KEY\")\n",
    "\n",
    "modelclient = OpenAIChatCompletionClient(api_key=apikey, model=\"gpt-4o-mini\")"
   ]
  },
  {
   "cell_type": "code",
   "execution_count": null,
   "id": "e0536a4d",
   "metadata": {},
   "outputs": [],
   "source": [
    "assistant = AssistantAgent(name=\"Assistant\",\n",
    "                           model_client=modelclient,\n",
    "                           system_message=\"You are a helpful assistant,  Answer the question.\"\n",
    "                           )\n",
    "\n",
    "result = await assistant.on_messages(\n",
    "    messages =[TextMessage(role=\"user\",content=\"Tell me a joke.\",source=\"user\")],\n",
    "    cancellation_token=CancellationToken()\n",
    ")\n",
    "\n",
    "print(result.chat_message.content)"
   ]
  },
  {
   "cell_type": "markdown",
   "id": "1d44c5d9",
   "metadata": {},
   "source": [
    "#### **Saving the State**"
   ]
  },
  {
   "cell_type": "code",
   "execution_count": null,
   "id": "ca45e9b1",
   "metadata": {},
   "outputs": [],
   "source": [
    "state_agent = await assistant.save_state()"
   ]
  },
  {
   "cell_type": "code",
   "execution_count": null,
   "id": "7f0bd435",
   "metadata": {},
   "outputs": [],
   "source": [
    "print(\"State saved.: \", state_agent)"
   ]
  },
  {
   "cell_type": "markdown",
   "id": "33e0b55f",
   "metadata": {},
   "source": [
    "#### **Load the State or history to the  other assistant or Another Agent**"
   ]
  },
  {
   "cell_type": "code",
   "execution_count": null,
   "id": "94a16c4c",
   "metadata": {},
   "outputs": [],
   "source": [
    "await assistant.load_state(state_agent)"
   ]
  },
  {
   "cell_type": "markdown",
   "id": "96e6fb87",
   "metadata": {},
   "source": [
    "### **Managing states in Teams** _ before is single Agent"
   ]
  },
  {
   "cell_type": "code",
   "execution_count": null,
   "id": "bcefed85",
   "metadata": {},
   "outputs": [],
   "source": [
    "from autogen_agentchat.agents import AssistantAgent\n",
    "from autogen_ext.models.openai import OpenAIChatCompletionClient\n",
    "from autogen_agentchat.messages import TextMessage\n",
    "from autogen_core import CancellationToken\n",
    "from autogen_agentchat.conditions import MaxMessageTermination\n",
    "from autogen_agentchat.teams import RoundRobinGroupChat\n",
    "from autogen_agentchat.ui import Console\n",
    "from dotenv import load_dotenv\n",
    "import os\n",
    "import asyncio\n",
    "load_dotenv()\n",
    "\n",
    "apikey = os.getenv(\"OPENAI_API_KEY\")\n",
    "\n",
    "modelclient = OpenAIChatCompletionClient(api_key=apikey, model=\"gpt-4o-mini\")"
   ]
  },
  {
   "cell_type": "code",
   "execution_count": null,
   "id": "06027728",
   "metadata": {},
   "outputs": [],
   "source": [
    "agent1 = AssistantAgent(name=\"writer_1\",\n",
    "                        model_client=modelclient,\n",
    "                        system_message=\"You are a contemporary writer. Give the output in less than 30 words.\"\n",
    "                        )\n",
    "\n",
    "agent2 = AssistantAgent(name=\"writer_2\",\n",
    "                        model_client=modelclient,\n",
    "                        system_message=\"You are a poet. Give the output in less than 30 words.\"\n",
    "                        )\n",
    "\n",
    "agent_team = [agent1, agent2]\n",
    "termination_condition = MaxMessageTermination(3)\n",
    "\n",
    "team_orchestration = RoundRobinGroupChat(agent_team,\n",
    "                                         termination_condition=termination_condition\n",
    "                                         )"
   ]
  },
  {
   "cell_type": "code",
   "execution_count": null,
   "id": "2030f605",
   "metadata": {},
   "outputs": [],
   "source": [
    "await Console(team_orchestration.run_stream(task=\"Tell me a stroy about a wise fox.\"))"
   ]
  },
  {
   "cell_type": "markdown",
   "id": "8d95987c",
   "metadata": {},
   "source": [
    "**Save State**"
   ]
  },
  {
   "cell_type": "code",
   "execution_count": null,
   "id": "cd7c83ab",
   "metadata": {},
   "outputs": [],
   "source": [
    "team_state = await team_orchestration.save_state()\n",
    "print(\"Team state saved: \", team_state)"
   ]
  },
  {
   "cell_type": "code",
   "execution_count": null,
   "id": "d8ab912a",
   "metadata": {},
   "outputs": [],
   "source": [
    "await team_orchestration.reset()"
   ]
  },
  {
   "cell_type": "code",
   "execution_count": null,
   "id": "3085d9cf",
   "metadata": {},
   "outputs": [],
   "source": [
    "await team_orchestration.load_state(team_state)"
   ]
  },
  {
   "cell_type": "markdown",
   "id": "52cbdc80",
   "metadata": {},
   "source": [
    "## **Note single agent output is loaded to single agent only Teams Agent is loaded only to teams**"
   ]
  },
  {
   "cell_type": "code",
   "execution_count": null,
   "id": "75dbfa73",
   "metadata": {},
   "outputs": [],
   "source": [
    "stream = team_orchestration.run_stream(task=\"what was the last line of the poen wrote.\")\n",
    "await Console(stream)"
   ]
  },
  {
   "cell_type": "markdown",
   "id": "85580b60",
   "metadata": {},
   "source": [
    "### **Saving and Loading Team State form file** "
   ]
  },
  {
   "cell_type": "code",
   "execution_count": null,
   "id": "d858ec81",
   "metadata": {},
   "outputs": [],
   "source": [
    "from autogen_agentchat.agents import AssistantAgent\n",
    "from autogen_ext.models.openai import OpenAIChatCompletionClient\n",
    "from autogen_agentchat.messages import TextMessage\n",
    "from autogen_core import CancellationToken\n",
    "from autogen_agentchat.conditions import MaxMessageTermination\n",
    "from autogen_agentchat.teams import RoundRobinGroupChat\n",
    "from autogen_agentchat.ui import Console\n",
    "from dotenv import load_dotenv\n",
    "import os\n",
    "import asyncio\n",
    "load_dotenv()\n",
    "\n",
    "apikey = os.getenv(\"OPENAI_API_KEY\")\n",
    "\n",
    "modelclient = OpenAIChatCompletionClient(api_key=apikey, model=\"gpt-4o-mini\")"
   ]
  },
  {
   "cell_type": "code",
   "execution_count": null,
   "id": "a7197ea9",
   "metadata": {},
   "outputs": [],
   "source": [
    "agent1 = AssistantAgent(name=\"writer_1\",\n",
    "                        model_client=modelclient,\n",
    "                        system_message=\"You are a contemporary writer. Give the output in less than 30 words.\"\n",
    "                        )\n",
    "\n",
    "agent2 = AssistantAgent(name=\"writer_2\",\n",
    "                        model_client=modelclient,\n",
    "                        system_message=\"You are a poet. Give the output in less than 30 words.\"\n",
    "                        )\n",
    "\n",
    "agent_team = [agent1, agent2]\n",
    "termination_condition = MaxMessageTermination(3)\n",
    "\n",
    "team_orchestration = RoundRobinGroupChat(agent_team,\n",
    "                                         termination_condition=termination_condition\n",
    "                                         )"
   ]
  },
  {
   "cell_type": "code",
   "execution_count": null,
   "id": "23d3f08d",
   "metadata": {},
   "outputs": [],
   "source": [
    "await Console(team_orchestration.run_stream(task=\"Tell me a stroy about a wise fox.\"))"
   ]
  },
  {
   "cell_type": "code",
   "execution_count": null,
   "id": "4dd54519",
   "metadata": {},
   "outputs": [],
   "source": [
    "team_state = await team_orchestration.save_state()\n",
    "print(\"Team state saved: \", team_state)"
   ]
  },
  {
   "cell_type": "code",
   "execution_count": null,
   "id": "52a137ee",
   "metadata": {},
   "outputs": [],
   "source": [
    "team_state"
   ]
  },
  {
   "cell_type": "markdown",
   "id": "c055a114",
   "metadata": {},
   "source": [
    "### **write state to a file**"
   ]
  },
  {
   "cell_type": "code",
   "execution_count": null,
   "id": "4b0ec18b",
   "metadata": {},
   "outputs": [],
   "source": [
    "import json\n",
    "\n",
    "with open(\"team_state.json\", \"w\") as f:\n",
    "    json.dump(team_state, f)"
   ]
  },
  {
   "cell_type": "markdown",
   "id": "690af808",
   "metadata": {},
   "source": [
    "### **Load state to a file**"
   ]
  },
  {
   "cell_type": "code",
   "execution_count": null,
   "id": "103af661",
   "metadata": {},
   "outputs": [],
   "source": [
    "with open(\"team_state.json\", \"r\") as f:\n",
    "    loaded_team_state = json.load(f)"
   ]
  },
  {
   "cell_type": "code",
   "execution_count": null,
   "id": "5f14821b",
   "metadata": {},
   "outputs": [],
   "source": [
    "await team_orchestration.load_state(loaded_team_state)\n",
    "print(\"Team state loaded from file.\", loaded_team_state)"
   ]
  }
 ],
 "metadata": {
  "kernelspec": {
   "display_name": "venv",
   "language": "python",
   "name": "python3"
  },
  "language_info": {
   "codemirror_mode": {
    "name": "ipython",
    "version": 3
   },
   "file_extension": ".py",
   "mimetype": "text/x-python",
   "name": "python",
   "nbconvert_exporter": "python",
   "pygments_lexer": "ipython3",
   "version": "3.13.8"
  }
 },
 "nbformat": 4,
 "nbformat_minor": 5
}
