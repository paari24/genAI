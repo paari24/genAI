{
 "cells": [
  {
   "cell_type": "code",
   "execution_count": 1,
   "id": "29656ea4",
   "metadata": {},
   "outputs": [],
   "source": [
    "from autogen_agentchat.agents import AssistantAgent\n",
    "from autogen_ext.models.openai import OpenAIChatCompletionClient\n",
    "from dotenv import load_dotenv\n",
    "import os\n",
    "import asyncio\n",
    "load_dotenv()\n",
    "\n",
    "apikey = os.getenv(\"OPENAI_API_KEY\")\n",
    "\n",
    "modelclient = OpenAIChatCompletionClient(api_key=apikey, model=\"gpt-4o-mini\")"
   ]
  },
  {
   "cell_type": "markdown",
   "id": "ed802800",
   "metadata": {},
   "source": [
    "#### **Single Agent Approach**"
   ]
  },
  {
   "cell_type": "code",
   "execution_count": 2,
   "id": "0b1bb413",
   "metadata": {},
   "outputs": [],
   "source": [
    "from autogen_agentchat.agents import AssistantAgent\n",
    "\n",
    "story_agent = AssistantAgent(\n",
    "    name=\"StoryTeller\",model_client=modelclient,\n",
    "    system_message=\"You are a creative story teller. You tell interesting and engaging stories to the user.\"\n",
    ")"
   ]
  },
  {
   "cell_type": "code",
   "execution_count": 6,
   "id": "d1ecf946",
   "metadata": {},
   "outputs": [
    {
     "name": "stdout",
     "output_type": "stream",
     "text": [
      "Story Agent Response: In a small, vibrant village nestled between emerald hills, lived a curious girl named Paari. She had wild, curly hair that danced in the wind and a spirit that craved adventure. Every day after school, Paari would wander into the Whispering Woods, where tales of magical creatures echoed through the leaves.\n",
      "\n",
      "One afternoon, as autumn leaves tumbled around her like confetti, Paari stumbled upon an ancient oak tree, its trunk gnarled and twisted. At its base, she noticed a faint glow. Intrigued, she knelt down and discovered a tiny door. Heart racing, she knocked softly.\n",
      "\n",
      "To her astonishment, the door creaked open, revealing a shimmering fairy named Liora. “I need your help,” Liora whispered, her wings sparkling like starlight. “The Water Crystal, which brings life to our forest, has been stolen by a shadowy beast.”\n",
      "\n",
      "Without hesitation, Paari agreed to help. Together, they journeyed deep into the forest, overcoming challenges and forging an unbreakable bond. With courage and cleverness, they confronted the beast, retrieving the crystal and restoring the vibrant magic of the woods.\n",
      "\n",
      "From that day on, Paari was known as the girl who befriended a fairy, forever entwined in the enchanting tales of her village.\n"
     ]
    }
   ],
   "source": [
    "from autogen_agentchat.messages import TextMessage\n",
    "\n",
    "async def story_task():\n",
    "    user_message = TextMessage(role=\"user\", content=\"Tell me a story about Paari. only 200 words\",source=\"user\")\n",
    "    response = await story_agent.run(task = user_message)\n",
    "    print(\"Story Agent Response:\", response.messages[-1].content)\n",
    "    \n",
    "await story_task()"
   ]
  },
  {
   "cell_type": "markdown",
   "id": "3e3d88bd",
   "metadata": {},
   "source": [
    "##### **Multi Agent Team Approach**"
   ]
  },
  {
   "cell_type": "code",
   "execution_count": 3,
   "id": "ee971ce6",
   "metadata": {},
   "outputs": [],
   "source": [
    "situation_agent = AssistantAgent(\n",
    "    name=\"Situation_Writer\",model_client=modelclient,\n",
    "    system_message=\"You are a creative situation writer for stories. You write interesting and engaging based on situations.\"\n",
    ")\n",
    "\n",
    "character_agent = AssistantAgent(\n",
    "    name=\"Character_Creator\",model_client=modelclient,\n",
    "    system_message=\"You are a creative character creator for stories. You create interesting and engaging characters based on story themes.\"\n",
    ")\n",
    "\n",
    "ending_agent = AssistantAgent(\n",
    "    name=\"Ending_Generator\",model_client=modelclient,\n",
    "    system_message=\"You are a creative ending generator for stories. You create interesting and engaging endings based on story plots.\"\n",
    ")"
   ]
  },
  {
   "cell_type": "markdown",
   "id": "6733133f",
   "metadata": {},
   "source": [
    "**Autogen Team to coordinate with all above agents**"
   ]
  },
  {
   "cell_type": "code",
   "execution_count": 5,
   "id": "37917ebc",
   "metadata": {},
   "outputs": [],
   "source": [
    "from autogen_agentchat.teams import RoundRobinGroupChat\n",
    "\n",
    "team = RoundRobinGroupChat(\n",
    "    [situation_agent, character_agent, ending_agent],\n",
    "    max_turns=3\n",
    ")"
   ]
  },
  {
   "cell_type": "code",
   "execution_count": 8,
   "id": "841115b6",
   "metadata": {},
   "outputs": [
    {
     "ename": "CancelledError",
     "evalue": "",
     "output_type": "error",
     "traceback": [
      "\u001b[31m---------------------------------------------------------------------------\u001b[39m",
      "\u001b[31mCancelledError\u001b[39m                            Traceback (most recent call last)",
      "\u001b[36mCell\u001b[39m\u001b[36m \u001b[39m\u001b[32mIn[8]\u001b[39m\u001b[32m, line 8\u001b[39m\n\u001b[32m      5\u001b[39m     response = \u001b[38;5;28;01mawait\u001b[39;00m team.run(task=task)\n\u001b[32m      6\u001b[39m     \u001b[38;5;28mprint\u001b[39m(\u001b[33m\"\u001b[39m\u001b[33mTeam Response:\u001b[39m\u001b[33m\"\u001b[39m, response.messages[-\u001b[32m1\u001b[39m].content)\n\u001b[32m----> \u001b[39m\u001b[32m8\u001b[39m \u001b[38;5;28;01mawait\u001b[39;00m multi_agent_story_task()\n",
      "\u001b[36mCell\u001b[39m\u001b[36m \u001b[39m\u001b[32mIn[8]\u001b[39m\u001b[32m, line 5\u001b[39m, in \u001b[36mmulti_agent_story_task\u001b[39m\u001b[34m()\u001b[39m\n\u001b[32m      3\u001b[39m \u001b[38;5;28;01masync\u001b[39;00m \u001b[38;5;28;01mdef\u001b[39;00m\u001b[38;5;250m \u001b[39m\u001b[34mmulti_agent_story_task\u001b[39m():\n\u001b[32m      4\u001b[39m     task = TextMessage(role=\u001b[33m\"\u001b[39m\u001b[33muser\u001b[39m\u001b[33m\"\u001b[39m, content=\u001b[33m\"\u001b[39m\u001b[33mCreate a story about Paari. only 200 words\u001b[39m\u001b[33m\"\u001b[39m,source=\u001b[33m\"\u001b[39m\u001b[33muser\u001b[39m\u001b[33m\"\u001b[39m)\n\u001b[32m----> \u001b[39m\u001b[32m5\u001b[39m     response = \u001b[38;5;28;01mawait\u001b[39;00m team.run(task=task)\n\u001b[32m      6\u001b[39m     \u001b[38;5;28mprint\u001b[39m(\u001b[33m\"\u001b[39m\u001b[33mTeam Response:\u001b[39m\u001b[33m\"\u001b[39m, response.messages[-\u001b[32m1\u001b[39m].content)\n",
      "\u001b[36mFile \u001b[39m\u001b[32me:\\genAI\\genAI\\autoGen\\venv\\Lib\\site-packages\\autogen_agentchat\\teams\\_group_chat\\_base_group_chat.py:340\u001b[39m, in \u001b[36mBaseGroupChat.run\u001b[39m\u001b[34m(self, task, cancellation_token, output_task_messages)\u001b[39m\n\u001b[32m    254\u001b[39m \u001b[38;5;250m\u001b[39m\u001b[33;03m\"\"\"Run the team and return the result. The base implementation uses\u001b[39;00m\n\u001b[32m    255\u001b[39m \u001b[33;03m:meth:`run_stream` to run the team and then returns the final result.\u001b[39;00m\n\u001b[32m    256\u001b[39m \u001b[33;03mOnce the team is stopped, the termination condition is reset.\u001b[39;00m\n\u001b[32m   (...)\u001b[39m\u001b[32m    337\u001b[39m \u001b[33;03m    asyncio.run(main())\u001b[39;00m\n\u001b[32m    338\u001b[39m \u001b[33;03m\"\"\"\u001b[39;00m\n\u001b[32m    339\u001b[39m result: TaskResult | \u001b[38;5;28;01mNone\u001b[39;00m = \u001b[38;5;28;01mNone\u001b[39;00m\n\u001b[32m--> \u001b[39m\u001b[32m340\u001b[39m \u001b[38;5;28;01masync\u001b[39;00m \u001b[38;5;28;01mfor\u001b[39;00m message \u001b[38;5;129;01min\u001b[39;00m \u001b[38;5;28mself\u001b[39m.run_stream(\n\u001b[32m    341\u001b[39m     task=task,\n\u001b[32m    342\u001b[39m     cancellation_token=cancellation_token,\n\u001b[32m    343\u001b[39m     output_task_messages=output_task_messages,\n\u001b[32m    344\u001b[39m ):\n\u001b[32m    345\u001b[39m     \u001b[38;5;28;01mif\u001b[39;00m \u001b[38;5;28misinstance\u001b[39m(message, TaskResult):\n\u001b[32m    346\u001b[39m         result = message\n",
      "\u001b[36mFile \u001b[39m\u001b[32me:\\genAI\\genAI\\autoGen\\venv\\Lib\\site-packages\\autogen_agentchat\\teams\\_group_chat\\_base_group_chat.py:549\u001b[39m, in \u001b[36mBaseGroupChat.run_stream\u001b[39m\u001b[34m(self, task, cancellation_token, output_task_messages)\u001b[39m\n\u001b[32m    547\u001b[39m     cancellation_token.link_future(message_future)\n\u001b[32m    548\u001b[39m \u001b[38;5;66;03m# Wait for the next message, this will raise an exception if the task is cancelled.\u001b[39;00m\n\u001b[32m--> \u001b[39m\u001b[32m549\u001b[39m message = \u001b[38;5;28;01mawait\u001b[39;00m message_future\n\u001b[32m    550\u001b[39m \u001b[38;5;28;01mif\u001b[39;00m \u001b[38;5;28misinstance\u001b[39m(message, GroupChatTermination):\n\u001b[32m    551\u001b[39m     \u001b[38;5;66;03m# If the message contains an error, we need to raise it here.\u001b[39;00m\n\u001b[32m    552\u001b[39m     \u001b[38;5;66;03m# This will stop the team and propagate the error.\u001b[39;00m\n\u001b[32m    553\u001b[39m     \u001b[38;5;28;01mif\u001b[39;00m message.error \u001b[38;5;129;01mis\u001b[39;00m \u001b[38;5;129;01mnot\u001b[39;00m \u001b[38;5;28;01mNone\u001b[39;00m:\n",
      "\u001b[36mFile \u001b[39m\u001b[32mC:\\Program Files\\WindowsApps\\PythonSoftwareFoundation.Python.3.13_3.13.2288.0_x64__qbz5n2kfra8p0\\Lib\\asyncio\\queues.py:186\u001b[39m, in \u001b[36mQueue.get\u001b[39m\u001b[34m(self)\u001b[39m\n\u001b[32m    184\u001b[39m \u001b[38;5;28mself\u001b[39m._getters.append(getter)\n\u001b[32m    185\u001b[39m \u001b[38;5;28;01mtry\u001b[39;00m:\n\u001b[32m--> \u001b[39m\u001b[32m186\u001b[39m     \u001b[38;5;28;01mawait\u001b[39;00m getter\n\u001b[32m    187\u001b[39m \u001b[38;5;28;01mexcept\u001b[39;00m:\n\u001b[32m    188\u001b[39m     getter.cancel()  \u001b[38;5;66;03m# Just in case getter is not done yet.\u001b[39;00m\n",
      "\u001b[31mCancelledError\u001b[39m: "
     ]
    }
   ],
   "source": [
    "from autogen_agentchat.messages import TextMessage\n",
    "\n",
    "async def multi_agent_story_task():\n",
    "    task = TextMessage(role=\"user\", content=\"Create a story about Paari. only 200 words\",source=\"user\")\n",
    "    response = await team.run(task=task)\n",
    "    print(\"Team Response:\", response.messages[-1].content)\n",
    "\n",
    "await multi_agent_story_task()"
   ]
  },
  {
   "cell_type": "markdown",
   "id": "b0006d4b",
   "metadata": {},
   "source": [
    "#### **Observing Team in Autogen**"
   ]
  },
  {
   "cell_type": "code",
   "execution_count": 9,
   "id": "9a70943d",
   "metadata": {},
   "outputs": [],
   "source": [
    "from autogen_agentchat.teams import RoundRobinGroupChat\n",
    "\n",
    "team = RoundRobinGroupChat(\n",
    "    [situation_agent, character_agent, ending_agent],\n",
    "    max_turns=3\n",
    ")"
   ]
  },
  {
   "cell_type": "markdown",
   "id": "410f555a",
   "metadata": {},
   "source": [
    "**Code to Debug**  usinf task.run_stream using for loop for print all the team tasks"
   ]
  },
  {
   "cell_type": "code",
   "execution_count": 10,
   "id": "558100eb",
   "metadata": {},
   "outputs": [
    {
     "name": "stdout",
     "output_type": "stream",
     "text": [
      "id='1e8261a8-e252-433c-a264-2ed8d8fbb1d8' source='user' models_usage=None metadata={} created_at=datetime.datetime(2025, 10, 16, 0, 21, 31, 756361, tzinfo=datetime.timezone.utc) content='Create a story about Paari. only 200 words' type='TextMessage'\n",
      "id='9cd49de4-b18d-4373-8053-cb597162c9ce' source='Situation_Writer' models_usage=RequestUsage(prompt_tokens=329, completion_tokens=254) metadata={} created_at=datetime.datetime(2025, 10, 16, 0, 21, 36, 530755, tzinfo=datetime.timezone.utc) content='Paari was a spirited girl of twelve, known for her boundless curiosity and love for adventure. One sunny afternoon, she stumbled upon a dusty old book in her grandmother’s attic, its cover adorned with intricate patterns. As she opened it, the pages rustled, revealing tales of distant lands and magical beings.\\n\\nIntrigued, Paari decided to embark on a quest of her own. Clutching the book, she slipped out into the garden, imagining each word coming to life. The air shimmered, and suddenly, she was transported to a vibrant forest where the trees whispered secrets.\\n\\nIn this enchanted realm, Paari met a mischievous sprite named Pip. Together, they chased after shimmering butterflies and danced with the playful wind. However, they soon discovered that the forest was in danger; a dark shadow threatened to consume the magic.\\n\\nDrawing upon her courage, Paari and Pip hatched a plan. They gathered the forest creatures, uniting them against the looming threat. With teamwork and bravery, they managed to dispel the darkness.\\n\\nAs the sun set, Paari returned home, heart full of wonder. The book lay open beside her, but she realized that her greatest adventure had just begun, fueled by the magic of her own spirit.' type='TextMessage'\n",
      "id='77f6a62d-049f-401b-a08f-f133aa9250fa' source='Character_Creator' models_usage=RequestUsage(prompt_tokens=868, completion_tokens=253) metadata={} created_at=datetime.datetime(2025, 10, 16, 0, 21, 41, 806487, tzinfo=datetime.timezone.utc) content='Paari was a spirited girl of twelve, known for her boundless curiosity and love for adventure. One sunny afternoon, she stumbled upon a dusty old book in her grandmother’s attic, its cover adorned with intricate patterns. As she opened it, the pages rustled, revealing tales of distant lands and magical beings.\\n\\nIntrigued, Paari decided to embark on a quest of her own. Clutching the book, she slipped out into the garden, imagining each word coming to life. The air shimmered, and suddenly, she was transported to a vibrant forest where the trees whispered secrets.\\n\\nIn this enchanted realm, Paari met a mischievous sprite named Pip. Together, they chased shimmering butterflies and danced with the playful wind. However, they soon discovered that the forest was in danger; a dark shadow threatened to consume the magic.\\n\\nDrawing upon her courage, Paari and Pip hatched a plan. They gathered the forest creatures, uniting them against the looming threat. With teamwork and bravery, they managed to dispel the darkness.\\n\\nAs the sun set, Paari returned home, heart full of wonder. The book lay open beside her, but she realized that her greatest adventure had just begun, fueled by the magic of her own spirit.' type='TextMessage'\n",
      "id='1a90d126-e1f4-43fd-8c81-b47b9d48796c' source='Ending_Generator' models_usage=RequestUsage(prompt_tokens=1396, completion_tokens=320) metadata={} created_at=datetime.datetime(2025, 10, 16, 0, 21, 48, 908851, tzinfo=datetime.timezone.utc) content='As days turned into weeks, Paari couldn\\'t shake the feeling that the magic of the forest still lingered within her. Every afternoon, she returned to her grandmother’s attic, eager to immerse herself in the mysterious book\\'s tales. But one evening, she discovered a new page that shimmered unlike the rest—an invitation tucked beneath a fading illustration of the vibrant forest.\\n\\nThe page read, \"To the bold-hearted, return at twilight, and your next adventure awaits.\" With her heart racing, Paari gathered her courage and waited for dusk. Just as the last rays of sun kissed the horizon, she whispered the enchanted words from the book. In an instant, she found herself standing in the forest once more.\\n\\nThis time, the air buzzed with anticipation. Pip greeted her, eyes wide with excitement. \"We need your help again, Paari! The forest is losing its colors, and we can\\'t find the Heartstone—the source of our magic!\"\\n\\nDetermined, Paari joined Pip and an array of colorful creatures in a thrilling quest across sunlit meadows and sparkling streams. As they faced challenges together, Paari learned the true strength of believing in herself and the bonds of friendship. When they finally found the Heartstone, the forest exploded in vibrant hues, enveloping them in a celebration of life and magic.\\n\\nReturning home that evening, she realized the book was more than just stories—it was a gateway to the uncharted adventures waiting to be discovered within her own heart. The sky glimmered with stars, a tapestry of endless possibilities, promising that her journey was just beginning.' type='TextMessage'\n",
      "messages=[TextMessage(id='1e8261a8-e252-433c-a264-2ed8d8fbb1d8', source='user', models_usage=None, metadata={}, created_at=datetime.datetime(2025, 10, 16, 0, 21, 31, 756361, tzinfo=datetime.timezone.utc), content='Create a story about Paari. only 200 words', type='TextMessage'), TextMessage(id='9cd49de4-b18d-4373-8053-cb597162c9ce', source='Situation_Writer', models_usage=RequestUsage(prompt_tokens=329, completion_tokens=254), metadata={}, created_at=datetime.datetime(2025, 10, 16, 0, 21, 36, 530755, tzinfo=datetime.timezone.utc), content='Paari was a spirited girl of twelve, known for her boundless curiosity and love for adventure. One sunny afternoon, she stumbled upon a dusty old book in her grandmother’s attic, its cover adorned with intricate patterns. As she opened it, the pages rustled, revealing tales of distant lands and magical beings.\\n\\nIntrigued, Paari decided to embark on a quest of her own. Clutching the book, she slipped out into the garden, imagining each word coming to life. The air shimmered, and suddenly, she was transported to a vibrant forest where the trees whispered secrets.\\n\\nIn this enchanted realm, Paari met a mischievous sprite named Pip. Together, they chased after shimmering butterflies and danced with the playful wind. However, they soon discovered that the forest was in danger; a dark shadow threatened to consume the magic.\\n\\nDrawing upon her courage, Paari and Pip hatched a plan. They gathered the forest creatures, uniting them against the looming threat. With teamwork and bravery, they managed to dispel the darkness.\\n\\nAs the sun set, Paari returned home, heart full of wonder. The book lay open beside her, but she realized that her greatest adventure had just begun, fueled by the magic of her own spirit.', type='TextMessage'), TextMessage(id='77f6a62d-049f-401b-a08f-f133aa9250fa', source='Character_Creator', models_usage=RequestUsage(prompt_tokens=868, completion_tokens=253), metadata={}, created_at=datetime.datetime(2025, 10, 16, 0, 21, 41, 806487, tzinfo=datetime.timezone.utc), content='Paari was a spirited girl of twelve, known for her boundless curiosity and love for adventure. One sunny afternoon, she stumbled upon a dusty old book in her grandmother’s attic, its cover adorned with intricate patterns. As she opened it, the pages rustled, revealing tales of distant lands and magical beings.\\n\\nIntrigued, Paari decided to embark on a quest of her own. Clutching the book, she slipped out into the garden, imagining each word coming to life. The air shimmered, and suddenly, she was transported to a vibrant forest where the trees whispered secrets.\\n\\nIn this enchanted realm, Paari met a mischievous sprite named Pip. Together, they chased shimmering butterflies and danced with the playful wind. However, they soon discovered that the forest was in danger; a dark shadow threatened to consume the magic.\\n\\nDrawing upon her courage, Paari and Pip hatched a plan. They gathered the forest creatures, uniting them against the looming threat. With teamwork and bravery, they managed to dispel the darkness.\\n\\nAs the sun set, Paari returned home, heart full of wonder. The book lay open beside her, but she realized that her greatest adventure had just begun, fueled by the magic of her own spirit.', type='TextMessage'), TextMessage(id='1a90d126-e1f4-43fd-8c81-b47b9d48796c', source='Ending_Generator', models_usage=RequestUsage(prompt_tokens=1396, completion_tokens=320), metadata={}, created_at=datetime.datetime(2025, 10, 16, 0, 21, 48, 908851, tzinfo=datetime.timezone.utc), content='As days turned into weeks, Paari couldn\\'t shake the feeling that the magic of the forest still lingered within her. Every afternoon, she returned to her grandmother’s attic, eager to immerse herself in the mysterious book\\'s tales. But one evening, she discovered a new page that shimmered unlike the rest—an invitation tucked beneath a fading illustration of the vibrant forest.\\n\\nThe page read, \"To the bold-hearted, return at twilight, and your next adventure awaits.\" With her heart racing, Paari gathered her courage and waited for dusk. Just as the last rays of sun kissed the horizon, she whispered the enchanted words from the book. In an instant, she found herself standing in the forest once more.\\n\\nThis time, the air buzzed with anticipation. Pip greeted her, eyes wide with excitement. \"We need your help again, Paari! The forest is losing its colors, and we can\\'t find the Heartstone—the source of our magic!\"\\n\\nDetermined, Paari joined Pip and an array of colorful creatures in a thrilling quest across sunlit meadows and sparkling streams. As they faced challenges together, Paari learned the true strength of believing in herself and the bonds of friendship. When they finally found the Heartstone, the forest exploded in vibrant hues, enveloping them in a celebration of life and magic.\\n\\nReturning home that evening, she realized the book was more than just stories—it was a gateway to the uncharted adventures waiting to be discovered within her own heart. The sky glimmered with stars, a tapestry of endless possibilities, promising that her journey was just beginning.', type='TextMessage')] stop_reason='Maximum number of turns 3 reached.'\n"
     ]
    }
   ],
   "source": [
    "async for message in team.run_stream(task=\"Create a story about Paari. only 200 words\"):\n",
    "    print(message)"
   ]
  },
  {
   "cell_type": "markdown",
   "id": "c79ef52e",
   "metadata": {},
   "source": [
    "\n",
    "##### **debug using TaskResults**\n"
   ]
  },
  {
   "cell_type": "code",
   "execution_count": 11,
   "id": "b1e2fd80",
   "metadata": {},
   "outputs": [
    {
     "name": "stdout",
     "output_type": "stream",
     "text": [
      "id='e64ab449-2d80-4612-a6ad-11c10de71a0e' source='user' models_usage=None metadata={} created_at=datetime.datetime(2025, 10, 16, 0, 23, 2, 104304, tzinfo=datetime.timezone.utc) content='Create a story about Paari. only 200 words' type='TextMessage'\n",
      "id='831082ea-7b6c-4262-84db-15b40888ebc5' source='Situation_Writer' models_usage=RequestUsage(prompt_tokens=1193, completion_tokens=260) metadata={} created_at=datetime.datetime(2025, 10, 16, 0, 23, 9, 404863, tzinfo=datetime.timezone.utc) content='Paari was an adventurous twelve-year-old with a penchant for discovering the extraordinary in the ordinary. One sunny afternoon, she ventured into the nearby woods, where she had often played as a child. Among the whispering trees, she noticed a peculiar golden flower blooming alone—a flower she had never seen before.\\n\\nCuriosity piqued, Paari knelt beside it, leaning in to inspect the delicate petals. Suddenly, the flower shimmered and opened, revealing a tiny, glowing door at its center. Without hesitation, she pushed it open and stepped inside, finding herself in a mesmerizing realm filled with vibrant colors and fantastical creatures.\\n\\nThere, she met Marlo, a gentle dragon who had lost his spark. “I need your help,” he said, his eyes filled with hope. “I’ve misplaced my ember, the source of my magic.”\\n\\nWith a fierce determination, Paari agreed to assist Marlo. Together, they traversed sparkling rivers and climbed glittering mountains, facing challenges that tested her courage and wit. \\n\\nAfter an exhilarating adventure, they found the ember hidden beneath a rainbow waterfall. As Marlo regained his magic, the realm erupted in a brilliant light. Paari returned home, heart aglow, knowing that her ordinary world held extraordinary magic just waiting to be found.' type='TextMessage'\n",
      "id='c76d62cd-099f-448e-8372-2da0b16aa85c' source='Character_Creator' models_usage=RequestUsage(prompt_tokens=1737, completion_tokens=256) metadata={} created_at=datetime.datetime(2025, 10, 16, 0, 23, 14, 650480, tzinfo=datetime.timezone.utc) content='Paari was an adventurous twelve-year-old with a penchant for discovering the extraordinary in the ordinary. One sunny afternoon, she ventured into the nearby woods, where she had often played as a child. Among the whispering trees, she noticed a peculiar golden flower blooming alone—a flower she had never seen before.\\n\\nCuriosity piqued, Paari knelt beside it, leaning in to inspect the delicate petals. Suddenly, the flower shimmered and opened, revealing a tiny, glowing door at its center. Without hesitation, she pushed it open and stepped inside, finding herself in a mesmerizing realm filled with vibrant colors and fantastical creatures.\\n\\nThere, she met Marlo, a gentle dragon who had lost his spark. “I need your help,” he said, his eyes filled with hope. “I’ve misplaced my ember, the source of my magic.”\\n\\nWith fierce determination, Paari agreed to assist Marlo. Together, they traversed sparkling rivers and climbed glittering mountains, facing challenges that tested her courage and wit.\\n\\nAfter an exhilarating adventure, they discovered the ember hidden beneath a rainbow waterfall. As Marlo regained his magic, the realm erupted in brilliant light. Paari returned home, heart aglow, knowing her ordinary world held extraordinary magic just waiting to be found.' type='TextMessage'\n",
      "id='0cfbbb2a-330a-445e-bdb2-bf8aafe80293' source='Ending_Generator' models_usage=RequestUsage(prompt_tokens=2269, completion_tokens=258) metadata={} created_at=datetime.datetime(2025, 10, 16, 0, 23, 19, 940599, tzinfo=datetime.timezone.utc) content=\"Back in her familiar surroundings, Paari felt a new energy coursing through her veins. The woods, no longer just a playground, seemed to pulse with secrets waiting to be uncovered. She decided to document her adventure, sketching Marlo and the shimmering landscapes in her notebook. As she drew, a peculiar thought crossed her mind: what if the golden flower was still out there, guarding more mysteries?\\n\\nDetermined, Paari packed a small bag and set off back into the woods the next day. Hours passed under the sun’s warm embrace, but the flower remained elusive. Just when she was about to give up, she stumbled upon a clearing she'd never seen before. There, a circle of golden flowers surrounded a shimmering pond that mirrored the sky.\\n\\nAs she approached, one of the flowers began to glow, its petals opening to reveal another tiny door. Paari’s heart raced—this time, she knew she could do anything! With one last look at her world, she squeezed through the door.\\n\\nWhat new adventure awaited her? As she stepped inside, vibrant colors swirled around her. With excitement bubbling within her, Paari realized her journey had only just begun, and with each exploration, she would uncover more of the extraordinary magic woven into the fabric of her life.\" type='TextMessage'\n",
      "Maximum number of turns 3 reached.\n"
     ]
    }
   ],
   "source": [
    "from autogen_agentchat.base import TaskResult\n",
    "\n",
    "async for message in team.run_stream(task=\"Create a story about Paari. only 200 words\"):\n",
    "    if isinstance(message, TaskResult):\n",
    "        print(message.stop_reason)\n",
    "    else:\n",
    "        print(message)"
   ]
  },
  {
   "cell_type": "markdown",
   "id": "d4317774",
   "metadata": {},
   "source": [
    "#### **For Detailed logging** console"
   ]
  },
  {
   "cell_type": "code",
   "execution_count": 13,
   "id": "3fc2190a",
   "metadata": {},
   "outputs": [
    {
     "name": "stdout",
     "output_type": "stream",
     "text": [
      "---------- TextMessage (user) ----------\n"
     ]
    },
    {
     "name": "stdout",
     "output_type": "stream",
     "text": [
      "Create a story about Paari. only 200 words\n",
      "---------- TextMessage (Situation_Writer) ----------\n",
      "Paari was an adventurous twelve-year-old, known for her wild curls and boundless curiosity. One evening, while exploring the dusty corners of her grandmother’s attic, she uncovered a strange, ornate box tucked away behind old trunks. Its surface glimmered with intricate designs, and a soft glow emanated from within.\n",
      "\n",
      "Unable to resist, Paari opened the box, revealing a shimmering hourglass filled with sparkling sand. As she tipped it, time seemed to warp around her. In an instant, she was transported to a vibrant world bursting with colors and fantastical creatures. \n",
      "\n",
      "In this land, Paari met a wise old tortoise named Eldrin, who spoke with a slow, melodic voice. “Welcome, brave spirit! You possess the Hourglass of Journeys. Use it wisely, for it can take you to any time or place.”\n",
      "\n",
      "Eager to explore, Paari set off with Eldrin, visiting moments in history and enchanting realms filled with magic. They soared through the skies on the backs of giant birds and danced with playful sprites under moonlit trees.\n",
      "\n",
      "As the sun began to set, Paari realized it was time to return home. Clutching the hourglass, she knew her adventures were just beginning, and her heart brimmed with excitement for what lay ahead.\n",
      "---------- TextMessage (Character_Creator) ----------\n",
      "Paari was an adventurous twelve-year-old, known for her wild curls and boundless curiosity. One evening, while exploring the dusty corners of her grandmother’s attic, she uncovered a strange, ornate box tucked away behind old trunks. Its surface glimmered with intricate designs, and a soft glow emanated from within.\n",
      "\n",
      "Unable to resist, Paari opened the box, revealing a shimmering hourglass filled with sparkling sand. As she tipped it, time seemed to warp around her. In an instant, she was transported to a vibrant world bursting with colors and fantastical creatures.\n",
      "\n",
      "In this land, Paari met a wise old tortoise named Eldrin, who spoke with a slow, melodic voice. “Welcome, brave spirit! You possess the Hourglass of Journeys. Use it wisely, for it can take you to any time or place.”\n",
      "\n",
      "Eager to explore, Paari set off with Eldrin, visiting moments in history and enchanting realms filled with magic. They soared through the skies on the backs of giant birds and danced with playful sprites under moonlit trees.\n",
      "\n",
      "As the sun began to set, Paari realized it was time to return home. Clutching the hourglass, she knew her adventures were just beginning, and her heart brimmed with excitement for what lay ahead.\n",
      "---------- TextMessage (Ending_Generator) ----------\n",
      "The following week, Paari couldn’t shake her excitement about the hourglass. With each passing day, she imagined new adventures beckoning her to explore. One rainy afternoon, feeling restless, she decided to venture back into her grandmother’s attic, where the old box awaited her eager hands.\n",
      "\n",
      "“Where will you take me today?” she whispered to the hourglass, twirling it between her fingers. As she tipped it again, sparkling grains filled the air, and in a swirl of colors, she found herself standing in a bustling medieval marketplace, surrounded by vibrantly dressed townsfolk and the scent of freshly baked bread.\n",
      "\n",
      "The atmosphere electrified her spirit. Just then, a group of street performers caught her eye, juggling and spinning fire. Caught up in the excitement, Paari approached them, and they invited her to join! With a heart full of courage, she juggled brightly colored balls, laughter erupting around her.\n",
      "\n",
      "Afterward, Eldrin appeared, nodding in approval. “You brought joy to many today,” he said, his eyes twinkling. As dusk settled, Paari felt a familiar longing to return home. \n",
      "\n",
      "Back in her attic, she clutched the hourglass tightly. Each adventure was a reminder that magic was always a heartbeat away, waiting for her to discover it.\n"
     ]
    },
    {
     "data": {
      "text/plain": [
       "TaskResult(messages=[TextMessage(id='eb997ec7-2bd2-445e-b1d4-b8d06d439aa1', source='user', models_usage=None, metadata={}, created_at=datetime.datetime(2025, 10, 16, 0, 27, 36, 798693, tzinfo=datetime.timezone.utc), content='Create a story about Paari. only 200 words', type='TextMessage'), TextMessage(id='ed59ec90-8628-4b73-877e-a6b5406f2a86', source='Situation_Writer', models_usage=RequestUsage(prompt_tokens=2004, completion_tokens=260), metadata={}, created_at=datetime.datetime(2025, 10, 16, 0, 27, 43, 10298, tzinfo=datetime.timezone.utc), content='Paari was an adventurous twelve-year-old, known for her wild curls and boundless curiosity. One evening, while exploring the dusty corners of her grandmother’s attic, she uncovered a strange, ornate box tucked away behind old trunks. Its surface glimmered with intricate designs, and a soft glow emanated from within.\\n\\nUnable to resist, Paari opened the box, revealing a shimmering hourglass filled with sparkling sand. As she tipped it, time seemed to warp around her. In an instant, she was transported to a vibrant world bursting with colors and fantastical creatures. \\n\\nIn this land, Paari met a wise old tortoise named Eldrin, who spoke with a slow, melodic voice. “Welcome, brave spirit! You possess the Hourglass of Journeys. Use it wisely, for it can take you to any time or place.”\\n\\nEager to explore, Paari set off with Eldrin, visiting moments in history and enchanting realms filled with magic. They soared through the skies on the backs of giant birds and danced with playful sprites under moonlit trees.\\n\\nAs the sun began to set, Paari realized it was time to return home. Clutching the hourglass, she knew her adventures were just beginning, and her heart brimmed with excitement for what lay ahead.', type='TextMessage'), TextMessage(id='c7f093a0-65b1-4eb2-804d-c4acff055b73', source='Character_Creator', models_usage=RequestUsage(prompt_tokens=2547, completion_tokens=259), metadata={}, created_at=datetime.datetime(2025, 10, 16, 0, 27, 48, 707995, tzinfo=datetime.timezone.utc), content='Paari was an adventurous twelve-year-old, known for her wild curls and boundless curiosity. One evening, while exploring the dusty corners of her grandmother’s attic, she uncovered a strange, ornate box tucked away behind old trunks. Its surface glimmered with intricate designs, and a soft glow emanated from within.\\n\\nUnable to resist, Paari opened the box, revealing a shimmering hourglass filled with sparkling sand. As she tipped it, time seemed to warp around her. In an instant, she was transported to a vibrant world bursting with colors and fantastical creatures.\\n\\nIn this land, Paari met a wise old tortoise named Eldrin, who spoke with a slow, melodic voice. “Welcome, brave spirit! You possess the Hourglass of Journeys. Use it wisely, for it can take you to any time or place.”\\n\\nEager to explore, Paari set off with Eldrin, visiting moments in history and enchanting realms filled with magic. They soared through the skies on the backs of giant birds and danced with playful sprites under moonlit trees.\\n\\nAs the sun began to set, Paari realized it was time to return home. Clutching the hourglass, she knew her adventures were just beginning, and her heart brimmed with excitement for what lay ahead.', type='TextMessage'), TextMessage(id='44564368-4f58-4706-94b8-5a7ba741f468', source='Ending_Generator', models_usage=RequestUsage(prompt_tokens=3083, completion_tokens=266), metadata={}, created_at=datetime.datetime(2025, 10, 16, 0, 27, 53, 822172, tzinfo=datetime.timezone.utc), content='The following week, Paari couldn’t shake her excitement about the hourglass. With each passing day, she imagined new adventures beckoning her to explore. One rainy afternoon, feeling restless, she decided to venture back into her grandmother’s attic, where the old box awaited her eager hands.\\n\\n“Where will you take me today?” she whispered to the hourglass, twirling it between her fingers. As she tipped it again, sparkling grains filled the air, and in a swirl of colors, she found herself standing in a bustling medieval marketplace, surrounded by vibrantly dressed townsfolk and the scent of freshly baked bread.\\n\\nThe atmosphere electrified her spirit. Just then, a group of street performers caught her eye, juggling and spinning fire. Caught up in the excitement, Paari approached them, and they invited her to join! With a heart full of courage, she juggled brightly colored balls, laughter erupting around her.\\n\\nAfterward, Eldrin appeared, nodding in approval. “You brought joy to many today,” he said, his eyes twinkling. As dusk settled, Paari felt a familiar longing to return home. \\n\\nBack in her attic, she clutched the hourglass tightly. Each adventure was a reminder that magic was always a heartbeat away, waiting for her to discover it.', type='TextMessage')], stop_reason='Maximum number of turns 3 reached.')"
      ]
     },
     "execution_count": 13,
     "metadata": {},
     "output_type": "execute_result"
    }
   ],
   "source": [
    "from autogen_agentchat.ui import Console\n",
    "await Console(team.run_stream(task=\"Create a story about Paari. only 200 words\"))"
   ]
  }
 ],
 "metadata": {
  "kernelspec": {
   "display_name": "venv",
   "language": "python",
   "name": "python3"
  },
  "language_info": {
   "codemirror_mode": {
    "name": "ipython",
    "version": 3
   },
   "file_extension": ".py",
   "mimetype": "text/x-python",
   "name": "python",
   "nbconvert_exporter": "python",
   "pygments_lexer": "ipython3",
   "version": "3.13.8"
  }
 },
 "nbformat": 4,
 "nbformat_minor": 5
}
