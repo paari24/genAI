{
 "cells": [
  {
   "cell_type": "code",
   "execution_count": 10,
   "id": "9150ab1a",
   "metadata": {},
   "outputs": [],
   "source": [
    "from pydantic import BaseModel\n",
    "\n",
    "class person(BaseModel):\n",
    "    name: str\n",
    "    age: int\n",
    "    email: str\n",
    "    rasa: list[str] = []"
   ]
  },
  {
   "cell_type": "code",
   "execution_count": 11,
   "id": "63a37fa4",
   "metadata": {},
   "outputs": [
    {
     "name": "stdout",
     "output_type": "stream",
     "text": [
      "name='John Doe' age=30 email='paari@.com' rasa=[]\n"
     ]
    }
   ],
   "source": [
    "person1 = person(name=\"John Doe\", age=30, email=\"paari@.com\")\n",
    "print(person1)"
   ]
  },
  {
   "cell_type": "code",
   "execution_count": 14,
   "id": "a4c45955",
   "metadata": {},
   "outputs": [
    {
     "name": "stdout",
     "output_type": "stream",
     "text": [
      "Starting the soru cooking process\n",
      "Starting the kolambu cooking process\n",
      "kolambu is now cooking ... \n",
      "soru is now cooking ... \n",
      "soru is ready to be served!\n",
      "kolambu is ready to be served!\n",
      "Both dishes are ready! Total time taken: 4.02 seconds\n"
     ]
    }
   ],
   "source": [
    "import asyncio\n",
    "import time\n",
    "\n",
    "async def soru():\n",
    "    print(\"Starting the soru cooking process\")\n",
    "    await asyncio.sleep(2)\n",
    "    print(\"soru is now cooking ... \")\n",
    "    await asyncio.sleep(2)\n",
    "    print(\"soru is ready to be served!\")\n",
    "\n",
    "async def kolambu():\n",
    "    print(\"Starting the kolambu cooking process\")\n",
    "    await asyncio.sleep(1)\n",
    "    print(\"kolambu is now cooking ... \")\n",
    "    await asyncio.sleep(3)\n",
    "    print(\"kolambu is ready to be served!\")\n",
    "\n",
    "async def main():\n",
    "    start_time = time.time()\n",
    "    await asyncio.gather(\n",
    "        soru(), \n",
    "        kolambu()\n",
    "        )\n",
    "    \n",
    "    end_time = time.time()\n",
    "    print(f\"Both dishes are ready! Total time taken: {end_time - start_time:.2f} seconds\")\n",
    "\n",
    "await main() # This is for interactive environments like Jupyter notebooks\n",
    "#asyncio.run(main()) # This is for standard Python scripts"
   ]
  }
 ],
 "metadata": {
  "kernelspec": {
   "display_name": "venv",
   "language": "python",
   "name": "python3"
  },
  "language_info": {
   "codemirror_mode": {
    "name": "ipython",
    "version": 3
   },
   "file_extension": ".py",
   "mimetype": "text/x-python",
   "name": "python",
   "nbconvert_exporter": "python",
   "pygments_lexer": "ipython3",
   "version": "3.13.8"
  }
 },
 "nbformat": 4,
 "nbformat_minor": 5
}
