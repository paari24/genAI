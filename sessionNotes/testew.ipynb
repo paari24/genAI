{
 "cells": [
  {
   "cell_type": "code",
   "execution_count": 7,
   "id": "94750169",
   "metadata": {},
   "outputs": [
    {
     "name": "stdout",
     "output_type": "stream",
     "text": [
      "Hello, World!\n",
      "Hello, Paari!\n",
      "File written successfully.\n",
      "Hello, World!\n",
      "File written successfully.\n",
      "Hello, World!\n",
      "Hello, Paari!\n"
     ]
    }
   ],
   "source": [
    "with open(\"notes.txt\", \"r\") as file:\n",
    "    content = file.read()\n",
    "    print(content)\n",
    "\n",
    "with open(\"notes.txt\", \"w\") as file:\n",
    "    file.write(\"Hello, World!\")\n",
    "\n",
    "with open(\"notes.txt\", \"r\") as file:\n",
    "    content = file.read()\n",
    "    print(\"File written successfully.\")\n",
    "    print(content)\n",
    "\n",
    "with open(\"notes.txt\", \"a\") as file:\n",
    "    file.write(\"\\nHello, Paari!\")\n",
    "\n",
    "with open(\"notes.txt\", \"r\") as file:\n",
    "    content = file.read()\n",
    "    print(\"File written successfully.\")\n",
    "    print(content)\n"
   ]
  },
  {
   "cell_type": "code",
   "execution_count": 6,
   "id": "874c8e44",
   "metadata": {},
   "outputs": [
    {
     "name": "stdout",
     "output_type": "stream",
     "text": [
      "Hello, World!\n",
      " Hello, Paari!\n",
      "File written successfully.\n",
      "Hello, World!\n",
      "File written successfully.\n",
      "Hello, World!\n",
      "Hello, Paari!\n"
     ]
    }
   ],
   "source": [
    "file = open(\"notes.txt\", \"r\")\n",
    "content = file.read()\n",
    "print(content)\n",
    "file.close()\n",
    "file = open(\"notes.txt\", \"w\")\n",
    "file.write(\"Hello, World!\")\n",
    "file.close()\n",
    "file = open(\"notes.txt\", \"r\")\n",
    "content = file.read()\n",
    "print(\"File written successfully.\") \n",
    "print(content)\n",
    "file = open(\"notes.txt\", \"a\")\n",
    "file.write(\"\\nHello, Paari!\")\n",
    "file.close()\n",
    "file = open(\"notes.txt\", \"r\")\n",
    "content = file.read()\n",
    "print(\"File written successfully.\") \n",
    "print(content)"
   ]
  },
  {
   "cell_type": "code",
   "execution_count": 3,
   "id": "6a799c48",
   "metadata": {},
   "outputs": [
    {
     "ename": "FileExistsError",
     "evalue": "[WinError 183] Cannot create a file when that file already exists: 'new_directory'",
     "output_type": "error",
     "traceback": [
      "\u001b[31m---------------------------------------------------------------------------\u001b[39m",
      "\u001b[31mFileExistsError\u001b[39m                           Traceback (most recent call last)",
      "\u001b[36mCell\u001b[39m\u001b[36m \u001b[39m\u001b[32mIn[3]\u001b[39m\u001b[32m, line 4\u001b[39m\n\u001b[32m      2\u001b[39m os.getcwd()\n\u001b[32m      3\u001b[39m os.listdir()\n\u001b[32m----> \u001b[39m\u001b[32m4\u001b[39m \u001b[43mos\u001b[49m\u001b[43m.\u001b[49m\u001b[43mmkdir\u001b[49m\u001b[43m(\u001b[49m\u001b[33;43m\"\u001b[39;49m\u001b[33;43mnew_directory\u001b[39;49m\u001b[33;43m\"\u001b[39;49m\u001b[43m)\u001b[49m\n",
      "\u001b[31mFileExistsError\u001b[39m: [WinError 183] Cannot create a file when that file already exists: 'new_directory'"
     ]
    }
   ],
   "source": [
    "import os\n",
    "os.getcwd()\n",
    "os.listdir()\n",
    "os.mkdir(\"new_directory\")"
   ]
  },
  {
   "cell_type": "code",
   "execution_count": null,
   "id": "534a61de",
   "metadata": {},
   "outputs": [],
   "source": []
  }
 ],
 "metadata": {
  "kernelspec": {
   "display_name": "paarivenv",
   "language": "python",
   "name": "python3"
  },
  "language_info": {
   "codemirror_mode": {
    "name": "ipython",
    "version": 3
   },
   "file_extension": ".py",
   "mimetype": "text/x-python",
   "name": "python",
   "nbconvert_exporter": "python",
   "pygments_lexer": "ipython3",
   "version": "3.12.10"
  }
 },
 "nbformat": 4,
 "nbformat_minor": 5
}
